{
 "cells": [
  {
   "cell_type": "markdown",
   "metadata": {},
   "source": [
    "# What is JS?"
   ]
  },
  {
   "cell_type": "markdown",
   "metadata": {},
   "source": [
    "- Javascript can be used at client side, server side, mobile, IoT, game developer, desktop, services inside cloud computing, VR, AI, AR, Blockchain, Data visualisation, plugins on browser, TvOS, WatchOS,\n",
    "\n",
    "- /*\n",
    "Datatypes in Javascript\n",
    "    1. Primitive data types - string, number, boolean,\n",
    "    2. Non Primitive data types - array, object\n",
    "*/\n",
    "- Even though JS allows both single and double quote strings, it's good practice to use the same throughout an application"
   ]
  }
 ],
 "metadata": {
  "kernelspec": {
   "display_name": "Python 3",
   "language": "python",
   "name": "python3"
  },
  "language_info": {
   "codemirror_mode": {
    "name": "ipython",
    "version": 3
   },
   "file_extension": ".py",
   "mimetype": "text/x-python",
   "name": "python",
   "nbconvert_exporter": "python",
   "pygments_lexer": "ipython3",
   "version": "3.10.8"
  }
 },
 "nbformat": 4,
 "nbformat_minor": 2
}
