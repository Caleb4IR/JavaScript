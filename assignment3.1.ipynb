{
 "cells": [
  {
   "cell_type": "markdown",
   "metadata": {},
   "source": [
    "Assignment 3: Write a program to manipulate JSON array objects, adding, removing, and updating elements.\n",
    "    1. WAP to sort the array elements in a descending order\n",
    "    2. WAP to add the numbers inside an array of numbers - [1, 2, 3, 4] => 10\n",
    "    3. WAP to count whether the length of the strings is greater than 10 - [\"asdnjkasdnaa\", \"sanjdasdasd\"] => 2"
   ]
  },
  {
   "cell_type": "code",
   "execution_count": null,
   "metadata": {
    "vscode": {
     "languageId": "javascript"
    }
   },
   "outputs": [],
   "source": [
    "function sortDescending(arr) {\n",
    "    return arr.sort(function(a, b) {\n",
    "        return b - a;\n",
    "    });\n",
    "}\n",
    "\n",
    "const array = [5, 3, 8, 1, 2, 9];\n",
    "const sortedArray = sortDescending(array);\n",
    "console.log(sortedArray);"
   ]
  }
 ],
 "metadata": {
  "language_info": {
   "name": "python"
  }
 },
 "nbformat": 4,
 "nbformat_minor": 2
}
